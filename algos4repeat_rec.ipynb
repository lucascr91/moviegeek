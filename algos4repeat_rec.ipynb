{
 "cells": [
  {
   "cell_type": "markdown",
   "id": "c18c6cdb",
   "metadata": {},
   "source": [
    "### Algorithms to deal with repeat recommendations\n",
    "\n",
    "\n",
    "In this notebook we review some basic algorithms to deal with repeatitions in a system of recommendations. For illustration, we use a database of user's behaviour in a movie website. The example was taken from \"Practical Recommender Systems\" by Kim Falk. To be able to replicate the example one must follow the instructions to build the application locally. The instructions can be found here: https://github.com/practical-recommender-systems/moviegeek"
   ]
  },
  {
   "cell_type": "code",
   "execution_count": 27,
   "id": "f777511f",
   "metadata": {},
   "outputs": [],
   "source": [
    "from builder.implicit_ratings_calculator import (\n",
    "    query_log_for_users, \n",
    "    query_aggregated_log_data_for_user)\n",
    "import pandas as pd\n",
    "from collections import defaultdict\n",
    "import random"
   ]
  },
  {
   "cell_type": "markdown",
   "id": "7efe73cc",
   "metadata": {},
   "source": [
    "Here we have an example of the events generated to a single user:"
   ]
  },
  {
   "cell_type": "code",
   "execution_count": 13,
   "id": "42243a87",
   "metadata": {},
   "outputs": [
    {
     "data": {
      "text/html": [
       "<div>\n",
       "<style scoped>\n",
       "    .dataframe tbody tr th:only-of-type {\n",
       "        vertical-align: middle;\n",
       "    }\n",
       "\n",
       "    .dataframe tbody tr th {\n",
       "        vertical-align: top;\n",
       "    }\n",
       "\n",
       "    .dataframe thead th {\n",
       "        text-align: right;\n",
       "    }\n",
       "</style>\n",
       "<table border=\"1\" class=\"dataframe\">\n",
       "  <thead>\n",
       "    <tr style=\"text-align: right;\">\n",
       "      <th></th>\n",
       "      <th>id</th>\n",
       "      <th>created</th>\n",
       "      <th>user_id</th>\n",
       "      <th>content_id</th>\n",
       "      <th>event</th>\n",
       "      <th>session_id</th>\n",
       "      <th>count</th>\n",
       "    </tr>\n",
       "  </thead>\n",
       "  <tbody>\n",
       "    <tr>\n",
       "      <th>0</th>\n",
       "      <td>7</td>\n",
       "      <td>2023-01-04 16:35:45</td>\n",
       "      <td>400003</td>\n",
       "      <td>4501244</td>\n",
       "      <td>details</td>\n",
       "      <td>794773</td>\n",
       "      <td>1</td>\n",
       "    </tr>\n",
       "    <tr>\n",
       "      <th>1</th>\n",
       "      <td>8</td>\n",
       "      <td>2023-01-04 16:35:45</td>\n",
       "      <td>400003</td>\n",
       "      <td>3521164</td>\n",
       "      <td>moreDetails</td>\n",
       "      <td>794773</td>\n",
       "      <td>1</td>\n",
       "    </tr>\n",
       "    <tr>\n",
       "      <th>2</th>\n",
       "      <td>18</td>\n",
       "      <td>2023-01-04 16:35:45</td>\n",
       "      <td>400003</td>\n",
       "      <td>2241351</td>\n",
       "      <td>addToList</td>\n",
       "      <td>794773</td>\n",
       "      <td>1</td>\n",
       "    </tr>\n",
       "    <tr>\n",
       "      <th>3</th>\n",
       "      <td>22</td>\n",
       "      <td>2023-01-04 16:35:45</td>\n",
       "      <td>400003</td>\n",
       "      <td>1700841</td>\n",
       "      <td>moreDetails</td>\n",
       "      <td>794773</td>\n",
       "      <td>1</td>\n",
       "    </tr>\n",
       "    <tr>\n",
       "      <th>4</th>\n",
       "      <td>24</td>\n",
       "      <td>2023-01-04 16:35:45</td>\n",
       "      <td>400003</td>\n",
       "      <td>1608290</td>\n",
       "      <td>moreDetails</td>\n",
       "      <td>794773</td>\n",
       "      <td>1</td>\n",
       "    </tr>\n",
       "  </tbody>\n",
       "</table>\n",
       "</div>"
      ],
      "text/plain": [
       "   id             created user_id content_id        event session_id  count\n",
       "0   7 2023-01-04 16:35:45  400003    4501244      details     794773      1\n",
       "1   8 2023-01-04 16:35:45  400003    3521164  moreDetails     794773      1\n",
       "2  18 2023-01-04 16:35:45  400003    2241351    addToList     794773      1\n",
       "3  22 2023-01-04 16:35:45  400003    1700841  moreDetails     794773      1\n",
       "4  24 2023-01-04 16:35:45  400003    1608290  moreDetails     794773      1"
      ]
     },
     "execution_count": 13,
     "metadata": {},
     "output_type": "execute_result"
    }
   ],
   "source": [
    "df = pd.DataFrame(list(query_aggregated_log_data_for_user('400003').values()))\n",
    "df.head()"
   ]
  },
  {
   "cell_type": "markdown",
   "id": "75da2127",
   "metadata": {},
   "source": [
    "Now we use a simple algorithm to generate recommendations for this user:"
   ]
  },
  {
   "cell_type": "code",
   "execution_count": 55,
   "id": "b3af50ef",
   "metadata": {},
   "outputs": [],
   "source": [
    "def calculate_implicit_ratings_for_user(user_id):\n",
    "    \n",
    "    w1 = 100\n",
    "    w2 = 50\n",
    "    w3 = 15\n",
    "\n",
    "    data = query_aggregated_log_data_for_user(user_id)\n",
    "\n",
    "    agg_data = dict()\n",
    "    max_rating = 0\n",
    "\n",
    "    for row in data:\n",
    "        content_id = str(row['content_id'])\n",
    "        if content_id not in agg_data.keys():\n",
    "            agg_data[content_id] = defaultdict(int)\n",
    "\n",
    "        agg_data[content_id][row['event']] = row['count']\n",
    "\n",
    "    ratings = dict()\n",
    "    for k, v in agg_data.items():\n",
    "\n",
    "        rating = w1 * v['buy'] + w2 * v['details'] + w3 * v['moredetails']\n",
    "        max_rating = max(max_rating, rating)\n",
    "\n",
    "        ratings[k] = rating\n",
    "\n",
    "    for content_id in ratings.keys():\n",
    "        ratings[content_id] = 10 * ratings[content_id] / max_rating\n",
    "        \n",
    "    return ratings"
   ]
  },
  {
   "cell_type": "code",
   "execution_count": 116,
   "id": "3ff7c2cc",
   "metadata": {},
   "outputs": [],
   "source": [
    "def get_recommendations(user_id):\n",
    "    d = calculate_implicit_ratings_for_user(user_id)\n",
    "    sorted_by_value = sorted(d.items(), key=lambda item: item[1])\n",
    "    \n",
    "    return sorted_by_value[::-1]"
   ]
  },
  {
   "cell_type": "code",
   "execution_count": 117,
   "id": "579d9944",
   "metadata": {},
   "outputs": [],
   "source": [
    "rec = get_recommendations('400003')"
   ]
  },
  {
   "cell_type": "code",
   "execution_count": 118,
   "id": "97ecba47",
   "metadata": {},
   "outputs": [
    {
     "data": {
      "text/plain": [
       "[('4513674', 10.0),\n",
       " ('3783958', 9.519774011299434),\n",
       " ('3381008', 9.40677966101695),\n",
       " ('3110958', 9.322033898305085),\n",
       " ('1878870', 9.307909604519773),\n",
       " ('2005151', 9.138418079096045),\n",
       " ('5512872', 8.841807909604519),\n",
       " ('2869728', 8.502824858757062),\n",
       " ('1289401', 7.7824858757062145),\n",
       " ('4651520', 7.5141242937853105)]"
      ]
     },
     "execution_count": 118,
     "metadata": {},
     "output_type": "execute_result"
    }
   ],
   "source": [
    "rec[:10]"
   ]
  },
  {
   "cell_type": "markdown",
   "id": "cbf53d98",
   "metadata": {},
   "source": [
    "### Impression discount"
   ]
  },
  {
   "cell_type": "code",
   "execution_count": null,
   "id": "503c3702",
   "metadata": {},
   "outputs": [],
   "source": [
    "def apply_impression_discount(scores, impressions, decay_factor=0.5):\n",
    "    discounted_scores = {}\n",
    "    for item, score in scores.items():\n",
    "        num_impressions = impressions.get(item, 0)\n",
    "        discounted_score = score * (decay_factor ** num_impressions)\n",
    "        discounted_scores[item] = discounted_score\n",
    "    return discounted_scores"
   ]
  },
  {
   "cell_type": "markdown",
   "id": "593a8a46",
   "metadata": {},
   "source": [
    "### Frequency capping"
   ]
  },
  {
   "cell_type": "code",
   "execution_count": 44,
   "id": "b40b45e4",
   "metadata": {},
   "outputs": [],
   "source": [
    "def frequency_capping(scores, impressions, max_impressions_per_item):\n",
    "    capped_scores = {}\n",
    "    for item, score in scores.items():\n",
    "        num_impressions = impressions.get(item, 0)\n",
    "        if num_impressions < max_impressions_per_item:\n",
    "            capped_scores[item] = score\n",
    "    return capped_scores"
   ]
  },
  {
   "cell_type": "markdown",
   "id": "970eeadd",
   "metadata": {},
   "source": [
    "### First strategy: Hacker-news algorithm"
   ]
  },
  {
   "cell_type": "markdown",
   "id": "f2f4a0ef",
   "metadata": {},
   "source": [
    "This strategy consists basically in a re-classification that give a discount at item-level. This discount is called gravity and can be based on any metric at item-level"
   ]
  },
  {
   "cell_type": "code",
   "execution_count": 119,
   "id": "ab60121f",
   "metadata": {},
   "outputs": [],
   "source": [
    "def hn_algo(score, user_id='400003'):\n",
    "    gravity = 1.8\n",
    "    age = 10\n",
    "    result = (score-1)/(pow(age+2,gravity))\n",
    "    \n",
    "    return result"
   ]
  },
  {
   "cell_type": "code",
   "execution_count": 122,
   "id": "9215e2e0",
   "metadata": {},
   "outputs": [
    {
     "data": {
      "text/plain": [
       "[('4513674', 9.988585056739463),\n",
       " ('3783958', 9.508359068038898),\n",
       " ('3381008', 9.395364717756413),\n",
       " ('3110958', 9.310618955044548),\n",
       " ('1878870', 9.296494661259237),\n",
       " ('2005151', 9.127003135835508),\n",
       " ('5512872', 8.830392966343982),\n",
       " ('2869728', 8.491409915496526),\n",
       " ('1289401', 7.771070932445678),\n",
       " ('4651520', 7.502709350524774)]"
      ]
     },
     "execution_count": 122,
     "metadata": {},
     "output_type": "execute_result"
    }
   ],
   "source": [
    "new_recs = {k[0]:hn_algo(k[1]) for k in rec}\n",
    "new_recs = sorted(new_recs.items(), key=lambda item: item[1])[::-1]\n",
    "new_recs[:10]"
   ]
  },
  {
   "cell_type": "code",
   "execution_count": null,
   "id": "25baa18c",
   "metadata": {},
   "outputs": [],
   "source": []
  }
 ],
 "metadata": {
  "kernelspec": {
   "display_name": "Python 3 (ipykernel)",
   "language": "python",
   "name": "python3"
  },
  "language_info": {
   "codemirror_mode": {
    "name": "ipython",
    "version": 3
   },
   "file_extension": ".py",
   "mimetype": "text/x-python",
   "name": "python",
   "nbconvert_exporter": "python",
   "pygments_lexer": "ipython3",
   "version": "3.10.8"
  }
 },
 "nbformat": 4,
 "nbformat_minor": 5
}
